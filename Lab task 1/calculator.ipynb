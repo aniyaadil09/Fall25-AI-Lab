{
 "cells": [
  {
   "cell_type": "markdown",
   "id": "b5cc0004",
   "metadata": {
    "vscode": {
     "languageId": "plaintext"
    }
   },
   "source": [
    "# Dynamic Calculator: 1+2×3(4-5÷4)-(3÷5)"
   ]
  },
  {
   "cell_type": "markdown",
   "id": "cc3e2d81",
   "metadata": {},
   "source": [
    ". Both the first and second methods are suitable for Jupyter Notebook.\n",
    "\n",
    ". The first method is also suitable for Python . In jupiter we call it by using print()\n",
    "\n",
    ". The second method is only suitable for Jupyter Notebook"
   ]
  },
  {
   "cell_type": "markdown",
   "id": "94efad50",
   "metadata": {},
   "source": [
    "# . First method"
   ]
  },
  {
   "cell_type": "code",
   "execution_count": null,
   "id": "bf1784ec",
   "metadata": {},
   "outputs": [],
   "source": [
    "step1 = 5/4\n",
    "step2 = 4-step1\n",
    "step3 = 3*step2\n",
    "step4 = 2 *step3\n",
    "step5 = 1+step4\n",
    "step6 = step5-3/5\n"
   ]
  },
  {
   "cell_type": "code",
   "execution_count": 17,
   "id": "3242b5a5",
   "metadata": {},
   "outputs": [
    {
     "name": "stdout",
     "output_type": "stream",
     "text": [
      "1.25\n",
      "2.75\n",
      "8.25\n",
      "16.5\n",
      "17.5\n",
      "16.9\n",
      "result= 16.9\n"
     ]
    }
   ],
   "source": [
    "print(step1)\n",
    "print(step2)\n",
    "print(step3)\n",
    "print(step4)\n",
    "print(step5)\n",
    "print(step6)\n",
    "print(\"result=\",step6)"
   ]
  },
  {
   "cell_type": "markdown",
   "id": "358873de",
   "metadata": {},
   "source": [
    "# . Description of 1st method:"
   ]
  },
  {
   "cell_type": "markdown",
   "id": "ac6802e9",
   "metadata": {},
   "source": [
    "   Why we use this?\n",
    "\n",
    "    . debugging, or writing step-by-step calculations.\n",
    "\n",
    "# Step 1:\n",
    "We solve the division inside the parentheses:\n",
    "5÷4=1.25\n",
    "So now the expression inside the brackets becomes:\n",
    "4−1.25\n",
    "\n",
    "# Step2:\n",
    "4 - step1\n",
    "4−1.25=2.75\n",
    "This completes the part inside the parentheses.\n",
    "\n",
    "# Step3:\n",
    " 3 * step2\n",
    "3×2.75=8.25\n",
    "\n",
    "#Step4:\n",
    "2 * step3\n",
    "This completes:2×3(4−5/4)\n",
    "\n",
    "# Step5:\n",
    "1 + step4\n",
    "1+16.5=17.5\n",
    "Now we've completed:\n",
    "1+2×3(4−5/4)\n",
    "\n",
    "# Step6:\n",
    "step5 - 3 / 5\n",
    "= 16.9\n",
    "\n"
   ]
  },
  {
   "cell_type": "markdown",
   "id": "47784c1b",
   "metadata": {},
   "source": [
    "# . Second method:"
   ]
  },
  {
   "cell_type": "code",
   "execution_count": 20,
   "id": "b034ddbf",
   "metadata": {},
   "outputs": [
    {
     "data": {
      "application/vnd.jupyter.widget-view+json": {
       "model_id": "95a46033bde24a5fbbfd85e575bdebd3",
       "version_major": 2,
       "version_minor": 0
      },
      "text/plain": [
       "interactive(children=(FloatSlider(value=1.0, description='a', max=10.0), FloatSlider(value=2.0, description='b…"
      ]
     },
     "metadata": {},
     "output_type": "display_data"
    },
    {
     "data": {
      "text/plain": [
       "<function __main__.cal(a=1, b=2, c=3, d=4, e=5, f=4, g=3, h=5)>"
      ]
     },
     "execution_count": 20,
     "metadata": {},
     "output_type": "execute_result"
    }
   ],
   "source": [
    "from ipywidgets import interact, FloatSlider\n",
    "\n",
    "def cal(a=1, b=2, c=3, d=4, e=5, f=4, g=3, h=5):\n",
    "    # Expression: a + b*c*(d - e/f) - (g/h)\n",
    "    result = a + b * c * (d - e / f) - (g / h)\n",
    "    print(f'Result: {result:.4f}')\n",
    "\n",
    "interact(cal,\n",
    "         a=FloatSlider(value=1, min=0, max=10, step=0.1),\n",
    "         b=FloatSlider(value=2, min=0, max=10, step=0.1),\n",
    "         c=FloatSlider(value=3, min=0, max=10, step=0.1),\n",
    "         d=FloatSlider(value=4, min=0, max=10, step=0.1),\n",
    "         e=FloatSlider(value=5, min=0, max=10, step=0.1),\n",
    "         f=FloatSlider(value=4, min=0.1, max=10, step=0.1),\n",
    "         g=FloatSlider(value=3, min=0, max=10, step=0.1),\n",
    "         h=FloatSlider(value=5, min=0.1, max=10, step=0.1))\n"
   ]
  },
  {
   "cell_type": "markdown",
   "id": "1424e909",
   "metadata": {},
   "source": [
    "# Description of 2nd method :"
   ]
  },
  {
   "cell_type": "markdown",
   "id": "bff8018b",
   "metadata": {},
   "source": [
    "\t\n",
    "Why we use this?\n",
    "\n",
    "       it is suitable for interactive notebook environments.\n",
    "\t\n",
    "\t\n",
    "\t• interact: a function that turns a regular function into an interactive widget.automatically create sliders,layout etc. \n",
    "\t• FloatSlider: a slider that allows  decimal (float) values.if we import floatslider then we will specify min,max and step. we mayuse another slider and so on.\n",
    "• This is designed for Jupyter Notebooks.\n",
    "\n",
    "\n",
    "• Define a function with any name. write 8 parameters and give then value according to the question.\n",
    "• Prints the result of the expression.\n",
    "\n",
    "• :.3f formats means after deciaml it puts three zeros.\n",
    "\n",
    "\n",
    "Creates interactive sliders for each parameter:\n",
    "\n",
    "\t• value: given in question\n",
    "\n",
    "\t• min: minimum allowed value(lowest value is 0)\n",
    "\n",
    "\t• max: maximum allowed value(100,500……)\n",
    "\t\n",
    "\t• step: how much the slider changes when moved(0.1 means fine slider)\n",
    "\t\n",
    "\t• a = 1 → Yeh expression first number\n",
    "(From 1 + ...)\n",
    "\n",
    "\t• b = 2 → 1st  multiplier\n",
    "(From 2 × 3)\n",
    "\n",
    "\t• c = 3 → 2nd multiplier\n",
    "(From 2 × 3)\n",
    "\n",
    "\t• d = 4 → Bracket first  number\n",
    "(From 4 - ...)\n",
    "\n",
    "\t• e = 5 → Bracket division numerator\n",
    "(From 5 ÷ 4)\n",
    "\n",
    "\t• f = 4 → Bracket division denominator\n",
    "(Min = 0.1 to avoid divide by zero )\n",
    "\n",
    "\t• g = 3 → Final subtraction  numerator\n",
    "(From - (3 / 5))\n",
    "\n",
    "\t• h = 5 → Final division  denominator\n",
    "(Min = 0.1 to avoid divide by zero)\n",
    "\n",
    "\n"
   ]
  }
 ],
 "metadata": {
  "kernelspec": {
   "display_name": "base",
   "language": "python",
   "name": "python3"
  },
  "language_info": {
   "codemirror_mode": {
    "name": "ipython",
    "version": 3
   },
   "file_extension": ".py",
   "mimetype": "text/x-python",
   "name": "python",
   "nbconvert_exporter": "python",
   "pygments_lexer": "ipython3",
   "version": "3.12.7"
  }
 },
 "nbformat": 4,
 "nbformat_minor": 5
}
