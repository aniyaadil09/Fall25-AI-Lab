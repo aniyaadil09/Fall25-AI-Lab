{
 "cells": [
  {
   "cell_type": "code",
   "execution_count": 2,
   "id": "b85e4238",
   "metadata": {},
   "outputs": [
    {
     "name": "stdout",
     "output_type": "stream",
     "text": [
      "1\n",
      "2\n",
      "Fizz\n",
      "4\n",
      "Buzz\n"
     ]
    }
   ],
   "source": [
    "def fizz_buzz(start,end):\n",
    "    for i in range(start, end + 1):\n",
    "     if i % 3 == 0 and i % 5 == 0:\n",
    "        print(\"FizzBuzz\")\n",
    "     elif i % 3 == 0:\n",
    "        print(\"Fizz\")\n",
    "     elif i % 5 == 0:\n",
    "        print(\"Buzz\")\n",
    "     else:\n",
    "        print(i)\n",
    "\n",
    "fizz_buzz(1,5)"
   ]
  }
 ],
 "metadata": {
  "kernelspec": {
   "display_name": "base",
   "language": "python",
   "name": "python3"
  },
  "language_info": {
   "codemirror_mode": {
    "name": "ipython",
    "version": 3
   },
   "file_extension": ".py",
   "mimetype": "text/x-python",
   "name": "python",
   "nbconvert_exporter": "python",
   "pygments_lexer": "ipython3",
   "version": "3.12.7"
  }
 },
 "nbformat": 4,
 "nbformat_minor": 5
}
